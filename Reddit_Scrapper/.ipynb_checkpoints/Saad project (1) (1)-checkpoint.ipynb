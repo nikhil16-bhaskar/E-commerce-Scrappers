{
 "cells": [
  {
   "cell_type": "code",
   "execution_count": 8,
   "metadata": {},
   "outputs": [],
   "source": [
    "import tweepy\n",
    "from datetime import datetime,timedelta\n",
    "from newsapi import NewsApiClient\n",
    "import pandas as pd\n",
    "import requests\n",
    "import praw\n",
    "import nltk"
   ]
  },
  {
   "cell_type": "code",
   "execution_count": 9,
   "metadata": {},
   "outputs": [],
   "source": [
    "consumer_key = 'LuWbHDDWuI9zihTSfQHO2apZ5'\n",
    "consumer_secret = 'IpvqNa7raPcUuTV9ETtK7dYpKsEYcK721ND1Y6ECOWgSLI2X2r'\n",
    "access_token = '1262282035491569664-UvPdBSyunrfOjtUCBfvgwgFE8R4tbR'\n",
    "access_token_secret = 'KnzPeDvsVPb21lujRUlWFvy1fspMM8ofzIlOT5NZUsocn'"
   ]
  },
  {
   "cell_type": "code",
   "execution_count": 10,
   "metadata": {},
   "outputs": [],
   "source": [
    "auth = tweepy.OAuthHandler(consumer_key, consumer_secret)\n",
    "auth.set_access_token(access_token, access_token_secret)\n",
    "api = tweepy.API(auth,wait_on_rate_limit=True)"
   ]
  },
  {
   "cell_type": "code",
   "execution_count": 4,
   "metadata": {},
   "outputs": [],
   "source": [
    "# timestamp =[]\n",
    "# tweetText=[]\n",
    "# location=[]\n",
    "# source=[]\n",
    "# i=0\n",
    "# search_terms = ('#politics OR #economy')\n",
    "# for tweet in tweepy.Cursor(api.search,q=search_terms,\n",
    "#                            lang=\"en\",\n",
    "#                            since=\"2020-05-18\").items():\n",
    "# #     print (tweet._json.keys())\n",
    "#     tweetText.append(tweet._json['text'])\n",
    "#     timestamp.append(tweet._json['created_at'])\n",
    "#     location.append(tweet._json['user']['location']) \n",
    "#     source.append('twitter')\n",
    "# #     print(tweet._json['geo'])\n",
    "# #     print(tweet._json['place'])\n",
    "# #     id_ = tweet._json['user']['id']\n",
    "# #     print(api.geo_id(id_))\n",
    "# #     if i==10:\n",
    "\n",
    "# #     i+=1    "
   ]
  },
  {
   "cell_type": "code",
   "execution_count": 11,
   "metadata": {},
   "outputs": [],
   "source": [
    "def TwitterData():\n",
    "    consumer_key = 'LuWbHDDWuI9zihTSfQHO2apZ5'\n",
    "    consumer_secret = 'IpvqNa7raPcUuTV9ETtK7dYpKsEYcK721ND1Y6ECOWgSLI2X2r'\n",
    "    access_token = '1262282035491569664-UvPdBSyunrfOjtUCBfvgwgFE8R4tbR'\n",
    "    access_token_secret = 'KnzPeDvsVPb21lujRUlWFvy1fspMM8ofzIlOT5NZUsocn'\n",
    "    \n",
    "    auth = tweepy.OAuthHandler(consumer_key, consumer_secret)\n",
    "    auth.set_access_token(access_token, access_token_secret)\n",
    "    api = tweepy.API(auth,wait_on_rate_limit=True)\n",
    "    \n",
    "    timestamp =[]\n",
    "    tweetText=[]\n",
    "    location=[]\n",
    "    source=[]\n",
    "#     since_date = datetime.today().date() - timedelta(days=2) #to get since date 2 days before today's date\n",
    "    search_terms = ('#politics OR #economy')\n",
    "    for tweet in tweepy.Cursor(api.search,q=search_terms,\n",
    "                               lang=\"en\",since=\"2020-06-18\").items():\n",
    "    #     print (tweet._json.keys())\n",
    "        tweetText.append(tweet._json['text'])\n",
    "        timestamp.append(tweet._json['created_at'])\n",
    "        location.append(tweet._json['user']['location']) \n",
    "        source.append('twitter')\n",
    "        \n",
    "    df_twitter  = pd.DataFrame({'TimeStamp':timestamp,'Text':tweetText,'Location':location,'Source':source}) \n",
    "    return df_twitter\n",
    "    \n",
    "    "
   ]
  },
  {
   "cell_type": "code",
   "execution_count": 12,
   "metadata": {},
   "outputs": [],
   "source": [
    "#news_api\n",
    "# news_dict={}\n",
    "def NewsData():\n",
    "    news_timestamp=[]\n",
    "    text = []\n",
    "    location=[]\n",
    "    author = []\n",
    "    news_api_key = '20b84ec580cf4de282fb2c8039dd4b52'\n",
    "\n",
    "\n",
    "    response = requests.get(f'https://newsapi.org/v2/everything?q=politics OR economy&from=2020-05-18&apiKey={news_api_key}')\n",
    " \n",
    "\n",
    "    for records in response.json()['articles']:\n",
    "        author.append(records['source']['name'])\n",
    "        text.append(records['description'])\n",
    "        news_timestamp.append(records['publishedAt'])\n",
    "\n",
    "    key_for_location = 'ZIJNlHiBinPqXGoGGBoPza4TbUG0Z8pb'  \n",
    "# &exclude_place_ids=41697\n",
    "# &viewbox=-1.99%2C52.02%2C0.78%2C50.94'\n",
    "    for each_author in author:\n",
    "        res = requests.get(f'http://open.mapquestapi.com/nominatim/v1/search.php?key={key_for_location}&format=json&q={each_author}+headquarters&addressdetails=1&limit=3').json()\n",
    "        try:\n",
    "            location.append(res[0]['address']['country'])\n",
    "        except:\n",
    "            location.append('None')\n",
    "\n",
    "    news_dict = {'TimeStamp':news_timestamp,'Text':text,'Location':location,'Source':'News'}    \n",
    "    news_df = pd.DataFrame(news_dict)    \n",
    "    return news_df\n",
    "\n",
    "    "
   ]
  },
  {
   "cell_type": "code",
   "execution_count": 13,
   "metadata": {},
   "outputs": [],
   "source": [
    "def redditData():\n",
    "    reddit = praw.Reddit(client_id = 'GZ4wXpp55Rzjqw',\n",
    "                        client_secret = 'nusWMTnlf0nLWOHWDcFcFi1RXQY',\n",
    "                        user_agent = 'data')\n",
    "    # subreddit = reddit.subreddit(\"redditdev\")\n",
    "    redditLocation=[]\n",
    "    redditSource=[]\n",
    "    redditText=[]\n",
    "    redditTimestamp=[]\n",
    "    for submission in reddit.subreddit(\"politics+economy\").top('all'):\n",
    "        if submission.__dict__['selftext'] == '':\n",
    "            continue\n",
    "        redditText.append(submission.__dict__['selftext'])\n",
    "        redditTimestamp.append(datetime.fromtimestamp(submission.__dict__['created']))\n",
    "        redditLocation.append('None')\n",
    "        redditSource.append('Reddit')\n",
    "    #     print(submission.__dict__)\n",
    "    #     break\n",
    "    #     print(\"###########################\")\n",
    "\n",
    "    reddit_dict = {'TimeStamp':redditTimestamp,'Text':redditText,'Location':redditLocation,'Source':'redditSource'}    \n",
    "    reddit_df = pd.DataFrame(reddit_dict)    \n",
    "    return reddit_df\n",
    "    "
   ]
  },
  {
   "cell_type": "code",
   "execution_count": 14,
   "metadata": {},
   "outputs": [],
   "source": [
    "df_twitter = TwitterData()\n",
    "\n"
   ]
  },
  {
   "cell_type": "code",
   "execution_count": 15,
   "metadata": {},
   "outputs": [],
   "source": [
    "df_news=NewsData()"
   ]
  },
  {
   "cell_type": "code",
   "execution_count": 16,
   "metadata": {},
   "outputs": [],
   "source": [
    "df_reddit = redditData()"
   ]
  },
  {
   "cell_type": "code",
   "execution_count": 17,
   "metadata": {},
   "outputs": [
    {
     "data": {
      "text/plain": [
       "1116"
      ]
     },
     "execution_count": 17,
     "metadata": {},
     "output_type": "execute_result"
    }
   ],
   "source": [
    "len(df_twitter)"
   ]
  },
  {
   "cell_type": "code",
   "execution_count": 18,
   "metadata": {},
   "outputs": [
    {
     "data": {
      "text/plain": [
       "20"
      ]
     },
     "execution_count": 18,
     "metadata": {},
     "output_type": "execute_result"
    }
   ],
   "source": [
    "len(df_news)"
   ]
  },
  {
   "cell_type": "code",
   "execution_count": 19,
   "metadata": {},
   "outputs": [
    {
     "data": {
      "text/plain": [
       "4"
      ]
     },
     "execution_count": 19,
     "metadata": {},
     "output_type": "execute_result"
    }
   ],
   "source": [
    "len(df_reddit)"
   ]
  },
  {
   "cell_type": "code",
   "execution_count": 20,
   "metadata": {},
   "outputs": [],
   "source": [
    "frames = [df_twitter,df_news,df_reddit]"
   ]
  },
  {
   "cell_type": "code",
   "execution_count": 21,
   "metadata": {},
   "outputs": [],
   "source": [
    "final_df = pd.concat(frames)"
   ]
  },
  {
   "cell_type": "code",
   "execution_count": 22,
   "metadata": {
    "scrolled": true
   },
   "outputs": [
    {
     "data": {
      "text/html": [
       "<div>\n",
       "<style scoped>\n",
       "    .dataframe tbody tr th:only-of-type {\n",
       "        vertical-align: middle;\n",
       "    }\n",
       "\n",
       "    .dataframe tbody tr th {\n",
       "        vertical-align: top;\n",
       "    }\n",
       "\n",
       "    .dataframe thead th {\n",
       "        text-align: right;\n",
       "    }\n",
       "</style>\n",
       "<table border=\"1\" class=\"dataframe\">\n",
       "  <thead>\n",
       "    <tr style=\"text-align: right;\">\n",
       "      <th></th>\n",
       "      <th>TimeStamp</th>\n",
       "      <th>Text</th>\n",
       "      <th>Location</th>\n",
       "      <th>Source</th>\n",
       "    </tr>\n",
       "  </thead>\n",
       "  <tbody>\n",
       "    <tr>\n",
       "      <th>0</th>\n",
       "      <td>Thu Jun 18 04:36:54 +0000 2020</td>\n",
       "      <td>RT @w_karve: #Quote\\nDiplomacy has rarely been...</td>\n",
       "      <td>Gurgaon, India</td>\n",
       "      <td>twitter</td>\n",
       "    </tr>\n",
       "    <tr>\n",
       "      <th>1</th>\n",
       "      <td>Thu Jun 18 04:36:47 +0000 2020</td>\n",
       "      <td>RT @S_H_E_L_L_E_Y: Brilliant illustration of t...</td>\n",
       "      <td>Hermosillo, Sonora</td>\n",
       "      <td>twitter</td>\n",
       "    </tr>\n",
       "    <tr>\n",
       "      <th>2</th>\n",
       "      <td>Thu Jun 18 04:36:31 +0000 2020</td>\n",
       "      <td>Muhyiddin moves to strike out Dr Mahathir’s su...</td>\n",
       "      <td>Putrajaya, Malaysia</td>\n",
       "      <td>twitter</td>\n",
       "    </tr>\n",
       "    <tr>\n",
       "      <th>3</th>\n",
       "      <td>Thu Jun 18 04:36:12 +0000 2020</td>\n",
       "      <td>RT @solarwardenfile: Classic Labour dirty play...</td>\n",
       "      <td>New Zealand</td>\n",
       "      <td>twitter</td>\n",
       "    </tr>\n",
       "    <tr>\n",
       "      <th>4</th>\n",
       "      <td>Thu Jun 18 04:36:07 +0000 2020</td>\n",
       "      <td>RT @ColSDM: What was the rush to judgement? Wh...</td>\n",
       "      <td>United States #voteredtosaveamerica #KAG2020 #...</td>\n",
       "      <td>twitter</td>\n",
       "    </tr>\n",
       "    <tr>\n",
       "      <th>...</th>\n",
       "      <td>...</td>\n",
       "      <td>...</td>\n",
       "      <td>...</td>\n",
       "      <td>...</td>\n",
       "    </tr>\n",
       "    <tr>\n",
       "      <th>19</th>\n",
       "      <td>2020-05-26T13:00:00Z</td>\n",
       "      <td>Let’s face it, the economy feels a little doom...</td>\n",
       "      <td>None</td>\n",
       "      <td>News</td>\n",
       "    </tr>\n",
       "    <tr>\n",
       "      <th>0</th>\n",
       "      <td>2019-12-19 15:06:13</td>\n",
       "      <td>The United States House of Representatives has...</td>\n",
       "      <td>None</td>\n",
       "      <td>redditSource</td>\n",
       "    </tr>\n",
       "    <tr>\n",
       "      <th>1</th>\n",
       "      <td>2019-01-18 17:26:54</td>\n",
       "      <td>President Donald Trump directed his longtime a...</td>\n",
       "      <td>None</td>\n",
       "      <td>redditSource</td>\n",
       "    </tr>\n",
       "    <tr>\n",
       "      <th>2</th>\n",
       "      <td>2020-04-09 04:59:33</td>\n",
       "      <td>Sen. Bernie Sanders ended his presidential cam...</td>\n",
       "      <td>None</td>\n",
       "      <td>redditSource</td>\n",
       "    </tr>\n",
       "    <tr>\n",
       "      <th>3</th>\n",
       "      <td>2019-10-31 10:15:41</td>\n",
       "      <td>Twitter is banning all political advertising f...</td>\n",
       "      <td>None</td>\n",
       "      <td>redditSource</td>\n",
       "    </tr>\n",
       "  </tbody>\n",
       "</table>\n",
       "<p>1140 rows × 4 columns</p>\n",
       "</div>"
      ],
      "text/plain": [
       "                         TimeStamp  \\\n",
       "0   Thu Jun 18 04:36:54 +0000 2020   \n",
       "1   Thu Jun 18 04:36:47 +0000 2020   \n",
       "2   Thu Jun 18 04:36:31 +0000 2020   \n",
       "3   Thu Jun 18 04:36:12 +0000 2020   \n",
       "4   Thu Jun 18 04:36:07 +0000 2020   \n",
       "..                             ...   \n",
       "19            2020-05-26T13:00:00Z   \n",
       "0              2019-12-19 15:06:13   \n",
       "1              2019-01-18 17:26:54   \n",
       "2              2020-04-09 04:59:33   \n",
       "3              2019-10-31 10:15:41   \n",
       "\n",
       "                                                 Text  \\\n",
       "0   RT @w_karve: #Quote\\nDiplomacy has rarely been...   \n",
       "1   RT @S_H_E_L_L_E_Y: Brilliant illustration of t...   \n",
       "2   Muhyiddin moves to strike out Dr Mahathir’s su...   \n",
       "3   RT @solarwardenfile: Classic Labour dirty play...   \n",
       "4   RT @ColSDM: What was the rush to judgement? Wh...   \n",
       "..                                                ...   \n",
       "19  Let’s face it, the economy feels a little doom...   \n",
       "0   The United States House of Representatives has...   \n",
       "1   President Donald Trump directed his longtime a...   \n",
       "2   Sen. Bernie Sanders ended his presidential cam...   \n",
       "3   Twitter is banning all political advertising f...   \n",
       "\n",
       "                                             Location        Source  \n",
       "0                                      Gurgaon, India       twitter  \n",
       "1                                  Hermosillo, Sonora       twitter  \n",
       "2                                 Putrajaya, Malaysia       twitter  \n",
       "3                                         New Zealand       twitter  \n",
       "4   United States #voteredtosaveamerica #KAG2020 #...       twitter  \n",
       "..                                                ...           ...  \n",
       "19                                               None          News  \n",
       "0                                                None  redditSource  \n",
       "1                                                None  redditSource  \n",
       "2                                                None  redditSource  \n",
       "3                                                None  redditSource  \n",
       "\n",
       "[1140 rows x 4 columns]"
      ]
     },
     "execution_count": 22,
     "metadata": {},
     "output_type": "execute_result"
    }
   ],
   "source": [
    "final_df"
   ]
  },
  {
   "cell_type": "code",
   "execution_count": 23,
   "metadata": {},
   "outputs": [],
   "source": [
    "final_df.to_csv('Saad_final_df.csv')"
   ]
  },
  {
   "cell_type": "code",
   "execution_count": 24,
   "metadata": {},
   "outputs": [],
   "source": [
    "df = pd.read_csv('Saad_final_df.csv')"
   ]
  },
  {
   "cell_type": "code",
   "execution_count": 25,
   "metadata": {},
   "outputs": [],
   "source": [
    "df = df.drop('Unnamed: 0',axis=1)"
   ]
  },
  {
   "cell_type": "code",
   "execution_count": 26,
   "metadata": {
    "scrolled": true
   },
   "outputs": [
    {
     "data": {
      "text/html": [
       "<div>\n",
       "<style scoped>\n",
       "    .dataframe tbody tr th:only-of-type {\n",
       "        vertical-align: middle;\n",
       "    }\n",
       "\n",
       "    .dataframe tbody tr th {\n",
       "        vertical-align: top;\n",
       "    }\n",
       "\n",
       "    .dataframe thead th {\n",
       "        text-align: right;\n",
       "    }\n",
       "</style>\n",
       "<table border=\"1\" class=\"dataframe\">\n",
       "  <thead>\n",
       "    <tr style=\"text-align: right;\">\n",
       "      <th></th>\n",
       "      <th>TimeStamp</th>\n",
       "      <th>Text</th>\n",
       "      <th>Location</th>\n",
       "      <th>Source</th>\n",
       "    </tr>\n",
       "  </thead>\n",
       "  <tbody>\n",
       "    <tr>\n",
       "      <th>0</th>\n",
       "      <td>Thu Jun 18 04:36:54 +0000 2020</td>\n",
       "      <td>RT @w_karve: #Quote\\nDiplomacy has rarely been...</td>\n",
       "      <td>Gurgaon, India</td>\n",
       "      <td>twitter</td>\n",
       "    </tr>\n",
       "    <tr>\n",
       "      <th>1</th>\n",
       "      <td>Thu Jun 18 04:36:47 +0000 2020</td>\n",
       "      <td>RT @S_H_E_L_L_E_Y: Brilliant illustration of t...</td>\n",
       "      <td>Hermosillo, Sonora</td>\n",
       "      <td>twitter</td>\n",
       "    </tr>\n",
       "    <tr>\n",
       "      <th>2</th>\n",
       "      <td>Thu Jun 18 04:36:31 +0000 2020</td>\n",
       "      <td>Muhyiddin moves to strike out Dr Mahathir’s su...</td>\n",
       "      <td>Putrajaya, Malaysia</td>\n",
       "      <td>twitter</td>\n",
       "    </tr>\n",
       "    <tr>\n",
       "      <th>3</th>\n",
       "      <td>Thu Jun 18 04:36:12 +0000 2020</td>\n",
       "      <td>RT @solarwardenfile: Classic Labour dirty play...</td>\n",
       "      <td>New Zealand</td>\n",
       "      <td>twitter</td>\n",
       "    </tr>\n",
       "    <tr>\n",
       "      <th>4</th>\n",
       "      <td>Thu Jun 18 04:36:07 +0000 2020</td>\n",
       "      <td>RT @ColSDM: What was the rush to judgement? Wh...</td>\n",
       "      <td>United States #voteredtosaveamerica #KAG2020 #...</td>\n",
       "      <td>twitter</td>\n",
       "    </tr>\n",
       "    <tr>\n",
       "      <th>...</th>\n",
       "      <td>...</td>\n",
       "      <td>...</td>\n",
       "      <td>...</td>\n",
       "      <td>...</td>\n",
       "    </tr>\n",
       "    <tr>\n",
       "      <th>1135</th>\n",
       "      <td>2020-05-26T13:00:00Z</td>\n",
       "      <td>Let’s face it, the economy feels a little doom...</td>\n",
       "      <td>None</td>\n",
       "      <td>News</td>\n",
       "    </tr>\n",
       "    <tr>\n",
       "      <th>1136</th>\n",
       "      <td>2019-12-19 15:06:13</td>\n",
       "      <td>The United States House of Representatives has...</td>\n",
       "      <td>None</td>\n",
       "      <td>redditSource</td>\n",
       "    </tr>\n",
       "    <tr>\n",
       "      <th>1137</th>\n",
       "      <td>2019-01-18 17:26:54</td>\n",
       "      <td>President Donald Trump directed his longtime a...</td>\n",
       "      <td>None</td>\n",
       "      <td>redditSource</td>\n",
       "    </tr>\n",
       "    <tr>\n",
       "      <th>1138</th>\n",
       "      <td>2020-04-09 04:59:33</td>\n",
       "      <td>Sen. Bernie Sanders ended his presidential cam...</td>\n",
       "      <td>None</td>\n",
       "      <td>redditSource</td>\n",
       "    </tr>\n",
       "    <tr>\n",
       "      <th>1139</th>\n",
       "      <td>2019-10-31 10:15:41</td>\n",
       "      <td>Twitter is banning all political advertising f...</td>\n",
       "      <td>None</td>\n",
       "      <td>redditSource</td>\n",
       "    </tr>\n",
       "  </tbody>\n",
       "</table>\n",
       "<p>1140 rows × 4 columns</p>\n",
       "</div>"
      ],
      "text/plain": [
       "                           TimeStamp  \\\n",
       "0     Thu Jun 18 04:36:54 +0000 2020   \n",
       "1     Thu Jun 18 04:36:47 +0000 2020   \n",
       "2     Thu Jun 18 04:36:31 +0000 2020   \n",
       "3     Thu Jun 18 04:36:12 +0000 2020   \n",
       "4     Thu Jun 18 04:36:07 +0000 2020   \n",
       "...                              ...   \n",
       "1135            2020-05-26T13:00:00Z   \n",
       "1136             2019-12-19 15:06:13   \n",
       "1137             2019-01-18 17:26:54   \n",
       "1138             2020-04-09 04:59:33   \n",
       "1139             2019-10-31 10:15:41   \n",
       "\n",
       "                                                   Text  \\\n",
       "0     RT @w_karve: #Quote\\nDiplomacy has rarely been...   \n",
       "1     RT @S_H_E_L_L_E_Y: Brilliant illustration of t...   \n",
       "2     Muhyiddin moves to strike out Dr Mahathir’s su...   \n",
       "3     RT @solarwardenfile: Classic Labour dirty play...   \n",
       "4     RT @ColSDM: What was the rush to judgement? Wh...   \n",
       "...                                                 ...   \n",
       "1135  Let’s face it, the economy feels a little doom...   \n",
       "1136  The United States House of Representatives has...   \n",
       "1137  President Donald Trump directed his longtime a...   \n",
       "1138  Sen. Bernie Sanders ended his presidential cam...   \n",
       "1139  Twitter is banning all political advertising f...   \n",
       "\n",
       "                                               Location        Source  \n",
       "0                                        Gurgaon, India       twitter  \n",
       "1                                    Hermosillo, Sonora       twitter  \n",
       "2                                   Putrajaya, Malaysia       twitter  \n",
       "3                                           New Zealand       twitter  \n",
       "4     United States #voteredtosaveamerica #KAG2020 #...       twitter  \n",
       "...                                                 ...           ...  \n",
       "1135                                               None          News  \n",
       "1136                                               None  redditSource  \n",
       "1137                                               None  redditSource  \n",
       "1138                                               None  redditSource  \n",
       "1139                                               None  redditSource  \n",
       "\n",
       "[1140 rows x 4 columns]"
      ]
     },
     "execution_count": 26,
     "metadata": {},
     "output_type": "execute_result"
    }
   ],
   "source": [
    "df"
   ]
  },
  {
   "cell_type": "code",
   "execution_count": 6,
   "metadata": {},
   "outputs": [
    {
     "data": {
      "text/plain": [
       "str"
      ]
     },
     "execution_count": 6,
     "metadata": {},
     "output_type": "execute_result"
    }
   ],
   "source": [
    "type(df.Text[0])"
   ]
  },
  {
   "cell_type": "code",
   "execution_count": 27,
   "metadata": {},
   "outputs": [
    {
     "name": "stderr",
     "output_type": "stream",
     "text": [
      "[nltk_data] Downloading package vader_lexicon to\n",
      "[nltk_data]     C:\\Users\\ILLUMINATI\\AppData\\Roaming\\nltk_data...\n"
     ]
    },
    {
     "data": {
      "text/plain": [
       "True"
      ]
     },
     "execution_count": 27,
     "metadata": {},
     "output_type": "execute_result"
    }
   ],
   "source": [
    "nltk.download('vader_lexicon')"
   ]
  },
  {
   "cell_type": "code",
   "execution_count": 28,
   "metadata": {},
   "outputs": [],
   "source": [
    "from nltk.sentiment.vader import SentimentIntensityAnalyzer\n",
    "\n",
    "sid = SentimentIntensityAnalyzer()"
   ]
  },
  {
   "cell_type": "code",
   "execution_count": 29,
   "metadata": {},
   "outputs": [],
   "source": [
    "sentiment_list=[]\n",
    "for each_text in df['Text']:\n",
    "    try:\n",
    "        polarity_dict = sid.polarity_scores(each_text)\n",
    "    except:\n",
    "        sentiment_list.append('neutral')\n",
    "        continue\n",
    "    negative = polarity_dict['neg']\n",
    "    positive = polarity_dict['pos']\n",
    "    neutral = polarity_dict['neu']\n",
    "#     print(polarity_dict)\n",
    "    \n",
    "    if negative>positive and negative>neutral:\n",
    "        sentiment_list.append('negative')\n",
    "        continue\n",
    "    if positive>negative and positive>neutral:\n",
    "        sentiment_list.append('positive')\n",
    "        continue\n",
    "    if neutral>positive and neutral> positive:\n",
    "        sentiment_list.append('neutral')\n",
    "        continue\n",
    "    if positive == negative:\n",
    "        sentiment_list.append('neutral')\n",
    "        continue\n",
    "        "
   ]
  },
  {
   "cell_type": "code",
   "execution_count": 30,
   "metadata": {},
   "outputs": [],
   "source": [
    "df['Sentiments'] = sentiment_list"
   ]
  },
  {
   "cell_type": "code",
   "execution_count": 123,
   "metadata": {},
   "outputs": [
    {
     "data": {
      "text/html": [
       "<div>\n",
       "<style scoped>\n",
       "    .dataframe tbody tr th:only-of-type {\n",
       "        vertical-align: middle;\n",
       "    }\n",
       "\n",
       "    .dataframe tbody tr th {\n",
       "        vertical-align: top;\n",
       "    }\n",
       "\n",
       "    .dataframe thead th {\n",
       "        text-align: right;\n",
       "    }\n",
       "</style>\n",
       "<table border=\"1\" class=\"dataframe\">\n",
       "  <thead>\n",
       "    <tr style=\"text-align: right;\">\n",
       "      <th></th>\n",
       "      <th>TimeStamp</th>\n",
       "      <th>Text</th>\n",
       "      <th>Location</th>\n",
       "      <th>Source</th>\n",
       "      <th>Sentiments</th>\n",
       "    </tr>\n",
       "  </thead>\n",
       "  <tbody>\n",
       "    <tr>\n",
       "      <th>0</th>\n",
       "      <td>Thu Jun 18 04:36:54 +0000 2020</td>\n",
       "      <td>RT @w_karve: #Quote\\nDiplomacy has rarely been...</td>\n",
       "      <td>Gurgaon, India</td>\n",
       "      <td>twitter</td>\n",
       "      <td>neutral</td>\n",
       "    </tr>\n",
       "    <tr>\n",
       "      <th>1</th>\n",
       "      <td>Thu Jun 18 04:36:47 +0000 2020</td>\n",
       "      <td>RT @S_H_E_L_L_E_Y: Brilliant illustration of t...</td>\n",
       "      <td>Hermosillo, Sonora</td>\n",
       "      <td>twitter</td>\n",
       "      <td>neutral</td>\n",
       "    </tr>\n",
       "    <tr>\n",
       "      <th>2</th>\n",
       "      <td>Thu Jun 18 04:36:31 +0000 2020</td>\n",
       "      <td>Muhyiddin moves to strike out Dr Mahathir’s su...</td>\n",
       "      <td>Putrajaya, Malaysia</td>\n",
       "      <td>twitter</td>\n",
       "      <td>neutral</td>\n",
       "    </tr>\n",
       "    <tr>\n",
       "      <th>3</th>\n",
       "      <td>Thu Jun 18 04:36:12 +0000 2020</td>\n",
       "      <td>RT @solarwardenfile: Classic Labour dirty play...</td>\n",
       "      <td>New Zealand</td>\n",
       "      <td>twitter</td>\n",
       "      <td>neutral</td>\n",
       "    </tr>\n",
       "    <tr>\n",
       "      <th>4</th>\n",
       "      <td>Thu Jun 18 04:36:07 +0000 2020</td>\n",
       "      <td>RT @ColSDM: What was the rush to judgement? Wh...</td>\n",
       "      <td>United States #voteredtosaveamerica #KAG2020 #...</td>\n",
       "      <td>twitter</td>\n",
       "      <td>neutral</td>\n",
       "    </tr>\n",
       "    <tr>\n",
       "      <th>...</th>\n",
       "      <td>...</td>\n",
       "      <td>...</td>\n",
       "      <td>...</td>\n",
       "      <td>...</td>\n",
       "      <td>...</td>\n",
       "    </tr>\n",
       "    <tr>\n",
       "      <th>1135</th>\n",
       "      <td>2020-05-26T13:00:00Z</td>\n",
       "      <td>Let’s face it, the economy feels a little doom...</td>\n",
       "      <td>None</td>\n",
       "      <td>News</td>\n",
       "      <td>neutral</td>\n",
       "    </tr>\n",
       "    <tr>\n",
       "      <th>1136</th>\n",
       "      <td>2019-12-19 15:06:13</td>\n",
       "      <td>The United States House of Representatives has...</td>\n",
       "      <td>None</td>\n",
       "      <td>redditSource</td>\n",
       "      <td>neutral</td>\n",
       "    </tr>\n",
       "    <tr>\n",
       "      <th>1137</th>\n",
       "      <td>2019-01-18 17:26:54</td>\n",
       "      <td>President Donald Trump directed his longtime a...</td>\n",
       "      <td>None</td>\n",
       "      <td>redditSource</td>\n",
       "      <td>neutral</td>\n",
       "    </tr>\n",
       "    <tr>\n",
       "      <th>1138</th>\n",
       "      <td>2020-04-09 04:59:33</td>\n",
       "      <td>Sen. Bernie Sanders ended his presidential cam...</td>\n",
       "      <td>None</td>\n",
       "      <td>redditSource</td>\n",
       "      <td>neutral</td>\n",
       "    </tr>\n",
       "    <tr>\n",
       "      <th>1139</th>\n",
       "      <td>2019-10-31 10:15:41</td>\n",
       "      <td>Twitter is banning all political advertising f...</td>\n",
       "      <td>None</td>\n",
       "      <td>redditSource</td>\n",
       "      <td>neutral</td>\n",
       "    </tr>\n",
       "  </tbody>\n",
       "</table>\n",
       "<p>1140 rows × 5 columns</p>\n",
       "</div>"
      ],
      "text/plain": [
       "                           TimeStamp  \\\n",
       "0     Thu Jun 18 04:36:54 +0000 2020   \n",
       "1     Thu Jun 18 04:36:47 +0000 2020   \n",
       "2     Thu Jun 18 04:36:31 +0000 2020   \n",
       "3     Thu Jun 18 04:36:12 +0000 2020   \n",
       "4     Thu Jun 18 04:36:07 +0000 2020   \n",
       "...                              ...   \n",
       "1135            2020-05-26T13:00:00Z   \n",
       "1136             2019-12-19 15:06:13   \n",
       "1137             2019-01-18 17:26:54   \n",
       "1138             2020-04-09 04:59:33   \n",
       "1139             2019-10-31 10:15:41   \n",
       "\n",
       "                                                   Text  \\\n",
       "0     RT @w_karve: #Quote\\nDiplomacy has rarely been...   \n",
       "1     RT @S_H_E_L_L_E_Y: Brilliant illustration of t...   \n",
       "2     Muhyiddin moves to strike out Dr Mahathir’s su...   \n",
       "3     RT @solarwardenfile: Classic Labour dirty play...   \n",
       "4     RT @ColSDM: What was the rush to judgement? Wh...   \n",
       "...                                                 ...   \n",
       "1135  Let’s face it, the economy feels a little doom...   \n",
       "1136  The United States House of Representatives has...   \n",
       "1137  President Donald Trump directed his longtime a...   \n",
       "1138  Sen. Bernie Sanders ended his presidential cam...   \n",
       "1139  Twitter is banning all political advertising f...   \n",
       "\n",
       "                                               Location        Source  \\\n",
       "0                                        Gurgaon, India       twitter   \n",
       "1                                    Hermosillo, Sonora       twitter   \n",
       "2                                   Putrajaya, Malaysia       twitter   \n",
       "3                                           New Zealand       twitter   \n",
       "4     United States #voteredtosaveamerica #KAG2020 #...       twitter   \n",
       "...                                                 ...           ...   \n",
       "1135                                               None          News   \n",
       "1136                                               None  redditSource   \n",
       "1137                                               None  redditSource   \n",
       "1138                                               None  redditSource   \n",
       "1139                                               None  redditSource   \n",
       "\n",
       "     Sentiments  \n",
       "0       neutral  \n",
       "1       neutral  \n",
       "2       neutral  \n",
       "3       neutral  \n",
       "4       neutral  \n",
       "...         ...  \n",
       "1135    neutral  \n",
       "1136    neutral  \n",
       "1137    neutral  \n",
       "1138    neutral  \n",
       "1139    neutral  \n",
       "\n",
       "[1140 rows x 5 columns]"
      ]
     },
     "execution_count": 123,
     "metadata": {},
     "output_type": "execute_result"
    }
   ],
   "source": [
    "df"
   ]
  },
  {
   "cell_type": "code",
   "execution_count": 11,
   "metadata": {},
   "outputs": [
    {
     "name": "stdout",
     "output_type": "stream",
     "text": [
      "<class 'pandas.core.frame.DataFrame'>\n",
      "RangeIndex: 1651 entries, 0 to 1650\n",
      "Data columns (total 4 columns):\n",
      "TimeStamp    1651 non-null object\n",
      "Text         1647 non-null object\n",
      "Location     1184 non-null object\n",
      "Source       1651 non-null object\n",
      "dtypes: object(4)\n",
      "memory usage: 51.7+ KB\n"
     ]
    }
   ],
   "source": [
    "df.info()"
   ]
  },
  {
   "cell_type": "code",
   "execution_count": 32,
   "metadata": {},
   "outputs": [],
   "source": [
    "import matplotlib.pyplot as plt\n",
    "import numpy as np\n",
    "import seaborn as sns"
   ]
  },
  {
   "cell_type": "code",
   "execution_count": 33,
   "metadata": {},
   "outputs": [
    {
     "data": {
      "text/plain": [
       "twitter         1116\n",
       "News              20\n",
       "redditSource       4\n",
       "Name: Source, dtype: int64"
      ]
     },
     "execution_count": 33,
     "metadata": {},
     "output_type": "execute_result"
    }
   ],
   "source": [
    "df.Source.value_counts()"
   ]
  },
  {
   "cell_type": "code",
   "execution_count": 34,
   "metadata": {},
   "outputs": [
    {
     "data": {
      "image/png": "[encoded data removed]",
      "text/plain": [
       "<Figure size 1080x864 with 1 Axes>"
      ]
     },
     "metadata": {
      "needs_background": "light"
     },
     "output_type": "display_data"
    }
   ],
   "source": [
    "plt.figure(figsize=(15,12))\n",
    "plt.bar(df['Source'].unique(),df.Source.value_counts())\n",
    "plt.show()"
   ]
  },
  {
   "cell_type": "code",
   "execution_count": 44,
   "metadata": {},
   "outputs": [
    {
     "data": {
      "image/png": "[encoded data removed]",
      "text/plain": [
       "<Figure size 1080x864 with 1 Axes>"
      ]
     },
     "metadata": {
      "needs_background": "light"
     },
     "output_type": "display_data"
    }
   ],
   "source": [
    "top_ = df['Location'].value_counts().nlargest(10)\n",
    "plt.figure(figsize=(15,12))\n",
    "# plt.plot(top_)\n",
    "\n",
    "df.Location.value_counts().sort_values().nlargest(10).plot(kind = 'bar')\n",
    "max_val = df.Location.value_counts().sort_values().nlargest(1)[0]\n",
    "plt.yticks(np.arange(0, max_val, step=10))\n",
    "plt.show()"
   ]
  },
  {
   "cell_type": "code",
   "execution_count": 124,
   "metadata": {},
   "outputs": [
    {
     "data": {
      "text/html": [
       "<div>\n",
       "<style scoped>\n",
       "    .dataframe tbody tr th:only-of-type {\n",
       "        vertical-align: middle;\n",
       "    }\n",
       "\n",
       "    .dataframe tbody tr th {\n",
       "        vertical-align: top;\n",
       "    }\n",
       "\n",
       "    .dataframe thead th {\n",
       "        text-align: right;\n",
       "    }\n",
       "</style>\n",
       "<table border=\"1\" class=\"dataframe\">\n",
       "  <thead>\n",
       "    <tr style=\"text-align: right;\">\n",
       "      <th></th>\n",
       "      <th>TimeStamp</th>\n",
       "      <th>Text</th>\n",
       "      <th>Location</th>\n",
       "      <th>Source</th>\n",
       "      <th>Sentiments</th>\n",
       "    </tr>\n",
       "  </thead>\n",
       "  <tbody>\n",
       "    <tr>\n",
       "      <th>Ehrenberg Arizona</th>\n",
       "      <td>NaN</td>\n",
       "      <td>NaN</td>\n",
       "      <td>1.0</td>\n",
       "      <td>NaN</td>\n",
       "      <td>NaN</td>\n",
       "    </tr>\n",
       "    <tr>\n",
       "      <th>New Martinsville, WV USA</th>\n",
       "      <td>NaN</td>\n",
       "      <td>NaN</td>\n",
       "      <td>1.0</td>\n",
       "      <td>NaN</td>\n",
       "      <td>NaN</td>\n",
       "    </tr>\n",
       "    <tr>\n",
       "      <th>حاضرحاضرحاضر هر جا</th>\n",
       "      <td>NaN</td>\n",
       "      <td>NaN</td>\n",
       "      <td>1.0</td>\n",
       "      <td>NaN</td>\n",
       "      <td>NaN</td>\n",
       "    </tr>\n",
       "    <tr>\n",
       "      <th>\"#Economy News: Op-Ed: State #Economy Needs Investment, Vision - Los Alamos Daily Post #News\": https://t.co/tSgLan2C5Z</th>\n",
       "      <td>NaN</td>\n",
       "      <td>1.0</td>\n",
       "      <td>NaN</td>\n",
       "      <td>NaN</td>\n",
       "      <td>NaN</td>\n",
       "    </tr>\n",
       "    <tr>\n",
       "      <th>\"#Economy News: Reopen the #Economy, More Open Than Ever - The Wall Street Journal #News\": https://t.co/zaXgeuz6kj</th>\n",
       "      <td>NaN</td>\n",
       "      <td>1.0</td>\n",
       "      <td>NaN</td>\n",
       "      <td>NaN</td>\n",
       "      <td>NaN</td>\n",
       "    </tr>\n",
       "    <tr>\n",
       "      <th>...</th>\n",
       "      <td>...</td>\n",
       "      <td>...</td>\n",
       "      <td>...</td>\n",
       "      <td>...</td>\n",
       "      <td>...</td>\n",
       "    </tr>\n",
       "    <tr>\n",
       "      <th>🇮🇩's #external #debt at the end of Apr 2020 was at USD 400.2billion, consisting of public sector debt (Govt&amp;amp;central… https://t.co/DmPg7VLoAA</th>\n",
       "      <td>NaN</td>\n",
       "      <td>1.0</td>\n",
       "      <td>NaN</td>\n",
       "      <td>NaN</td>\n",
       "      <td>NaN</td>\n",
       "    </tr>\n",
       "    <tr>\n",
       "      <th>🇮🇩's external #debt grew 2.9% (yoy), higher than the #growth in March2020 of 0.6% (yoy), due to the increase in the… https://t.co/PM1Xxcq36s</th>\n",
       "      <td>NaN</td>\n",
       "      <td>1.0</td>\n",
       "      <td>NaN</td>\n",
       "      <td>NaN</td>\n",
       "      <td>NaN</td>\n",
       "    </tr>\n",
       "    <tr>\n",
       "      <th>🇮🇩's overall trade balance in January-May 2020 recorded a surplus of USD 4,31 billion, shifting fr a USD 2,68 billi… https://t.co/2mK7WadBfG</th>\n",
       "      <td>NaN</td>\n",
       "      <td>1.0</td>\n",
       "      <td>NaN</td>\n",
       "      <td>NaN</td>\n",
       "      <td>NaN</td>\n",
       "    </tr>\n",
       "    <tr>\n",
       "      <th>🌏Global</th>\n",
       "      <td>NaN</td>\n",
       "      <td>NaN</td>\n",
       "      <td>1.0</td>\n",
       "      <td>NaN</td>\n",
       "      <td>NaN</td>\n",
       "    </tr>\n",
       "    <tr>\n",
       "      <th>💰The #WallStreet day-trading pandemic.\\nWhy Stock Market is going bizarre while #MainStreet Struggles. \\n💰‘Cooped-up’… https://t.co/UNQfZoEDBr</th>\n",
       "      <td>NaN</td>\n",
       "      <td>1.0</td>\n",
       "      <td>NaN</td>\n",
       "      <td>NaN</td>\n",
       "      <td>NaN</td>\n",
       "    </tr>\n",
       "  </tbody>\n",
       "</table>\n",
       "<p>2308 rows × 5 columns</p>\n",
       "</div>"
      ],
      "text/plain": [
       "                                                    TimeStamp  Text  Location  \\\n",
       "  Ehrenberg Arizona                                       NaN   NaN       1.0   \n",
       " New Martinsville, WV USA                                 NaN   NaN       1.0   \n",
       " حاضرحاضرحاضر هر جا                                       NaN   NaN       1.0   \n",
       "\"#Economy News: Op-Ed: State #Economy Needs Inv...        NaN   1.0       NaN   \n",
       "\"#Economy News: Reopen the #Economy, More Open ...        NaN   1.0       NaN   \n",
       "...                                                       ...   ...       ...   \n",
       "🇮🇩's #external #debt at the end of Apr 2020 was...        NaN   1.0       NaN   \n",
       "🇮🇩's external #debt grew 2.9% (yoy), higher tha...        NaN   1.0       NaN   \n",
       "🇮🇩's overall trade balance in January-May 2020 ...        NaN   1.0       NaN   \n",
       "🌏Global                                                   NaN   NaN       1.0   \n",
       "💰The #WallStreet day-trading pandemic.\\nWhy Sto...        NaN   1.0       NaN   \n",
       "\n",
       "                                                    Source  Sentiments  \n",
       "  Ehrenberg Arizona                                    NaN         NaN  \n",
       " New Martinsville, WV USA                              NaN         NaN  \n",
       " حاضرحاضرحاضر هر جا                                    NaN         NaN  \n",
       "\"#Economy News: Op-Ed: State #Economy Needs Inv...     NaN         NaN  \n",
       "\"#Economy News: Reopen the #Economy, More Open ...     NaN         NaN  \n",
       "...                                                    ...         ...  \n",
       "🇮🇩's #external #debt at the end of Apr 2020 was...     NaN         NaN  \n",
       "🇮🇩's external #debt grew 2.9% (yoy), higher tha...     NaN         NaN  \n",
       "🇮🇩's overall trade balance in January-May 2020 ...     NaN         NaN  \n",
       "🌏Global                                                NaN         NaN  \n",
       "💰The #WallStreet day-trading pandemic.\\nWhy Sto...     NaN         NaN  \n",
       "\n",
       "[2308 rows x 5 columns]"
      ]
     },
     "execution_count": 124,
     "metadata": {},
     "output_type": "execute_result"
    }
   ],
   "source": [
    "# data = df['Location'].value_counts().sort_values().nlargest(10)\n",
    "# abc = df.Sentiments.value_counts().sort_values().nlargest(10)\n",
    "df.apply(pd.Series.value_counts)\n",
    "# a= abc.index\n",
    "# idx = data.index\n",
    "# val=data.values\n",
    "# plt.figure(figsize=(18,12))\n",
    "# sns.barplot(x=idx,y=val,data=df)\n",
    "# type(abc)\n",
    "# a = df[['Location','Sentiments']]\n",
    "# a.groupby('Location').describe()#.sort_values(by=['count']).columns"
   ]
  },
  {
   "cell_type": "code",
   "execution_count": null,
   "metadata": {},
   "outputs": [],
   "source": [
    "df['Location'].value_counts().nlargest(10)"
   ]
  },
  {
   "cell_type": "code",
   "execution_count": 77,
   "metadata": {},
   "outputs": [
    {
     "data": {
      "image/png": "[encoded data removed]",
      "text/plain": [
       "<Figure size 432x288 with 1 Axes>"
      ]
     },
     "metadata": {
      "needs_background": "light"
     },
     "output_type": "display_data"
    }
   ],
   "source": [
    "#Note to Saad this graph is incomplete for now. \n",
    "fig, ax = plt.subplots()\n",
    "x = df.Location.value_counts().sort_values().nlargest(10)\n",
    "ax = x.plot(kind='bar',label='pos')\n",
    "ax =x.plot(kind='bar',label='neu')\n",
    "ax =x.plot(kind='bar',label='neg')\n",
    "# ax.axis('equal')\n",
    "leg = ax.legend();"
   ]
  },
  {
   "cell_type": "code",
   "execution_count": 4,
   "metadata": {},
   "outputs": [],
   "source": [
    "from pycorenlp import StanfordCoreNLP\n",
    "# java -mx6g -cp \"*\" edu.stanford.nlp.pipeline.StanfordCoreNLPServer -timeout 10000\n",
    "nlp_wrapper = StanfordCoreNLP('http://localhost:9000')"
   ]
  },
  {
   "cell_type": "code",
   "execution_count": 7,
   "metadata": {},
   "outputs": [],
   "source": [
    "doc = \"I like this chocolate. This chocolate is not good. The chocolate is delicious. Its a very tasty chocolate. This is so bad\"\n",
    "annot_doc = nlp_wrapper.annotate(doc,\n",
    "    properties={\n",
    "       'annotators': 'sentiment',\n",
    "       'outputFormat': 'json',\n",
    "       'timeout': 2000,\n",
    "    })"
   ]
  },
  {
   "cell_type": "code",
   "execution_count": 12,
   "metadata": {},
   "outputs": [
    {
     "name": "stdout",
     "output_type": "stream",
     "text": [
      "Neutral\n",
      "Negative\n",
      "Positive\n",
      "Positive\n",
      "Negative\n"
     ]
    }
   ],
   "source": [
    "#this gives sentiment for each sentence(doc) now here we can see 2 positive and 2 negative,what should be the overall sentiment \n",
    "#of the sentence??\n",
    "for sent in annot_doc['sentences']:\n",
    "    print(sent['sentiment'])\n"
   ]
  },
  {
   "cell_type": "code",
   "execution_count": 151,
   "metadata": {},
   "outputs": [
    {
     "data": {
      "text/plain": [
       "<matplotlib.axes._subplots.AxesSubplot at 0x1f89a58fbc8>"
      ]
     },
     "execution_count": 151,
     "metadata": {},
     "output_type": "execute_result"
    },
    {
     "data": {
      "image/png": "[encoded data removed]",
      "text/plain": [
       "<Figure size 432x288 with 1 Axes>"
      ]
     },
     "metadata": {
      "needs_background": "light"
     },
     "output_type": "display_data"
    }
   ],
   "source": [
    "df.Sentiments.value_counts().sort_values().plot(kind='bar')"
   ]
  },
  {
   "cell_type": "code",
   "execution_count": 155,
   "metadata": {},
   "outputs": [
    {
     "data": {
      "text/plain": [
       "<matplotlib.axes._subplots.AxesSubplot at 0x1f89b340a08>"
      ]
     },
     "execution_count": 155,
     "metadata": {},
     "output_type": "execute_result"
    },
    {
     "data": {
      "image/png": "[encoded data removed]",
      "text/plain": [
       "<Figure size 432x288 with 1 Axes>"
      ]
     },
     "metadata": {},
     "output_type": "display_data"
    }
   ],
   "source": [
    "df.Sentiments.value_counts().sort_values().plot(kind='pie')"
   ]
  },
  {
   "cell_type": "code",
   "execution_count": 156,
   "metadata": {},
   "outputs": [
    {
     "data": {
      "text/plain": [
       "<matplotlib.axes._subplots.AxesSubplot at 0x1f89b38bb48>"
      ]
     },
     "execution_count": 156,
     "metadata": {},
     "output_type": "execute_result"
    },
    {
     "data": {
      "image/png": "[encoded data removed]",
      "text/plain": [
       "<Figure size 432x288 with 1 Axes>"
      ]
     },
     "metadata": {
      "needs_background": "light"
     },
     "output_type": "display_data"
    }
   ],
   "source": [
    "df.Sentiments.value_counts().sort_values().plot(kind='line')"
   ]
  },
  {
   "cell_type": "code",
   "execution_count": 160,
   "metadata": {},
   "outputs": [
    {
     "data": {
      "text/plain": [
       "<matplotlib.axes._subplots.AxesSubplot at 0x1f89b4e5348>"
      ]
     },
     "execution_count": 160,
     "metadata": {},
     "output_type": "execute_result"
    },
    {
     "data": {
      "image/png": "[encoded data removed]",
      "text/plain": [
       "<Figure size 432x288 with 1 Axes>"
      ]
     },
     "metadata": {
      "needs_background": "light"
     },
     "output_type": "display_data"
    }
   ],
   "source": [
    "df.Sentiments.value_counts().sort_values().plot(kind='hist') #x-axis 0 and y axis 1 means there is 1 negative value "
   ]
  },
  {
   "cell_type": "code",
   "execution_count": 161,
   "metadata": {},
   "outputs": [
    {
     "data": {
      "text/plain": [
       "<matplotlib.axes._subplots.AxesSubplot at 0x1f89b550888>"
      ]
     },
     "execution_count": 161,
     "metadata": {},
     "output_type": "execute_result"
    },
    {
     "data": {
      "image/png": "[encoded data removed]",
      "text/plain": [
       "<Figure size 432x288 with 1 Axes>"
      ]
     },
     "metadata": {
      "needs_background": "light"
     },
     "output_type": "display_data"
    }
   ],
   "source": [
    "df.Sentiments.value_counts().sort_values().plot(kind='box')"
   ]
  },
  {
   "cell_type": "code",
   "execution_count": 162,
   "metadata": {},
   "outputs": [
    {
     "data": {
      "text/plain": [
       "<matplotlib.axes._subplots.AxesSubplot at 0x1f89b5cf388>"
      ]
     },
     "execution_count": 162,
     "metadata": {},
     "output_type": "execute_result"
    },
    {
     "data": {
      "image/png": "[encoded data removed]",
      "text/plain": [
       "<Figure size 432x288 with 1 Axes>"
      ]
     },
     "metadata": {
      "needs_background": "light"
     },
     "output_type": "display_data"
    }
   ],
   "source": [
    "df.Sentiments.value_counts().sort_values().plot(kind='area')"
   ]
  },
  {
   "cell_type": "code",
   "execution_count": 169,
   "metadata": {},
   "outputs": [
    {
     "data": {
      "text/plain": [
       "<matplotlib.axes._subplots.AxesSubplot at 0x1f89c7fd448>"
      ]
     },
     "execution_count": 169,
     "metadata": {},
     "output_type": "execute_result"
    },
    {
     "data": {
      "image/png": "[encoded data removed]",
      "text/plain": [
       "<Figure size 432x288 with 1 Axes>"
      ]
     },
     "metadata": {
      "needs_background": "light"
     },
     "output_type": "display_data"
    }
   ],
   "source": [
    "sns.distplot(df.Location.value_counts().sort_values().nlargest(10))"
   ]
  },
  {
   "cell_type": "code",
   "execution_count": null,
   "metadata": {},
   "outputs": [],
   "source": []
  }
 ],
 "metadata": {
  "kernelspec": {
   "display_name": "Python 3",
   "language": "python",
   "name": "python3"
  },
  "language_info": {
   "codemirror_mode": {
    "name": "ipython",
    "version": 3
   },
   "file_extension": ".py",
   "mimetype": "text/x-python",
   "name": "python",
   "nbconvert_exporter": "python",
   "pygments_lexer": "ipython3",
   "version": "3.7.6"
  }
 },
 "nbformat": 4,
 "nbformat_minor": 2
}
